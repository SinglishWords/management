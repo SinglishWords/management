{
 "cells": [
  {
   "cell_type": "markdown",
   "id": "8fd45dd7",
   "metadata": {},
   "source": [
    "# Refresh questions\n",
    "\n",
    "- @author Gong Zequn (zequn.gong@u.nus.edu)\n",
    "- @create 2021.07.17\n",
    "- @modify 2021.07.22\n",
    "\n",
    "We cannot just delete the old questions and then add new questions, since \n",
    "we are using question_id in the answer table to indicate which question \n",
    "does this answer belong to.\n",
    "\n",
    "The SQL should be like:\n",
    "\n",
    "```sql\n",
    "BEGIN;\n",
    "UPDATE `question` SET `enable`=0;\n",
    "INSERT INTO `question` (`word`) VALUES (\"a\"), (\"here\") ON DUPLICATE KEY UPDATE `enable`=1;\n",
    "COMMIT;\n",
    "```"
   ]
  },
  {
   "cell_type": "code",
   "execution_count": 1,
   "id": "0fbaf516",
   "metadata": {},
   "outputs": [
    {
     "name": "stdout",
     "output_type": "stream",
     "text": [
      "Requirement already satisfied: redis in /opt/conda/lib/python3.9/site-packages (3.5.3)\r\n",
      "Requirement already satisfied: pymysql in /opt/conda/lib/python3.9/site-packages (1.0.2)\r\n",
      "Requirement already satisfied: pandas in /opt/conda/lib/python3.9/site-packages (1.2.5)\r\n",
      "Requirement already satisfied: pytz>=2017.3 in /opt/conda/lib/python3.9/site-packages (from pandas) (2021.1)\r\n",
      "Requirement already satisfied: python-dateutil>=2.7.3 in /opt/conda/lib/python3.9/site-packages (from pandas) (2.8.1)\r\n",
      "Requirement already satisfied: numpy>=1.16.5 in /opt/conda/lib/python3.9/site-packages (from pandas) (1.21.0)\r\n",
      "Requirement already satisfied: six>=1.5 in /opt/conda/lib/python3.9/site-packages (from python-dateutil>=2.7.3->pandas) (1.16.0)\r\n"
     ]
    }
   ],
   "source": [
    "!pip install redis pymysql pandas"
   ]
  },
  {
   "cell_type": "markdown",
   "id": "5e541554",
   "metadata": {},
   "source": [
    "## Configs"
   ]
  },
  {
   "cell_type": "code",
   "execution_count": 2,
   "id": "3c08ba74",
   "metadata": {},
   "outputs": [],
   "source": [
    "# Common configs\n",
    "\n",
    "question_list_file_name = \"./input/list.txt\"\n",
    "\n",
    "class Configs:\n",
    "    _db_host = 'mysql'\n",
    "    _db_port = 3306\n",
    "    _db_user = 'csqsiew'\n",
    "    _db_passwd = 'u98x7v89asx'\n",
    "    _db_name = 'singlishwords'\n",
    "    _db_charset = 'utf8'\n",
    "\n",
    "    _redis_host = 'redis'\n",
    "    _redis_port = 6379"
   ]
  },
  {
   "cell_type": "markdown",
   "id": "8c083be6",
   "metadata": {},
   "source": [
    "## Read questions"
   ]
  },
  {
   "cell_type": "code",
   "execution_count": 3,
   "id": "8a702e5e",
   "metadata": {},
   "outputs": [],
   "source": [
    "with open(question_list_file_name) as f:\n",
    "    questions = f.read().splitlines()"
   ]
  },
  {
   "cell_type": "markdown",
   "id": "cb40b970",
   "metadata": {},
   "source": [
    "## Init database connection"
   ]
  },
  {
   "cell_type": "code",
   "execution_count": 4,
   "id": "ffd4ced2",
   "metadata": {},
   "outputs": [],
   "source": [
    "import libs.database as database\n",
    "\n",
    "database.initConnections(Configs)"
   ]
  },
  {
   "cell_type": "markdown",
   "id": "4ac97697",
   "metadata": {},
   "source": [
    "## Refresh questions in database"
   ]
  },
  {
   "cell_type": "code",
   "execution_count": 5,
   "id": "72c7c5b4",
   "metadata": {},
   "outputs": [],
   "source": [
    "database.refreshMySQLQuestions(questions)"
   ]
  },
  {
   "cell_type": "markdown",
   "id": "e4fa7de3",
   "metadata": {},
   "source": [
    "## Refresh the cache"
   ]
  },
  {
   "cell_type": "code",
   "execution_count": 6,
   "id": "8c9c9734",
   "metadata": {},
   "outputs": [],
   "source": [
    "database.refreshRedis()"
   ]
  },
  {
   "cell_type": "markdown",
   "id": "47c16f95",
   "metadata": {},
   "source": [
    "## Check if success\n",
    "\n",
    "This method check the current questions in the sample set."
   ]
  },
  {
   "cell_type": "code",
   "execution_count": 7,
   "id": "af0e7231",
   "metadata": {
    "scrolled": true
   },
   "outputs": [
    {
     "data": {
      "text/plain": [
       "4462"
      ]
     },
     "execution_count": 7,
     "metadata": {},
     "output_type": "execute_result"
    }
   ],
   "source": [
    "database.redisConnection.llen(\"questionList\")"
   ]
  },
  {
   "cell_type": "code",
   "execution_count": null,
   "id": "3c6a8237",
   "metadata": {},
   "outputs": [],
   "source": []
  }
 ],
 "metadata": {
  "kernelspec": {
   "display_name": "Python 3",
   "language": "python",
   "name": "python3"
  },
  "language_info": {
   "codemirror_mode": {
    "name": "ipython",
    "version": 3
   },
   "file_extension": ".py",
   "mimetype": "text/x-python",
   "name": "python",
   "nbconvert_exporter": "python",
   "pygments_lexer": "ipython3",
   "version": "3.9.5"
  }
 },
 "nbformat": 4,
 "nbformat_minor": 5
}
