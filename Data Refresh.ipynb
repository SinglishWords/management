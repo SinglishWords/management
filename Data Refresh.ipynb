{
 "cells": [
  {
   "cell_type": "markdown",
   "id": "8fd45dd7",
   "metadata": {},
   "source": [
    "# Refresh questions\n",
    "\n",
    "- @author Gong Zequn (zequn.gong@u.nus.edu)\n",
    "- @create 2021.07.17\n",
    "- @modify 2021.07.22\n",
    "- @author Shashank Acharya (acharya.s@u.nus.edu)\n",
    "- @modify 2022.03.22"
   ]
  },
  {
   "cell_type": "markdown",
   "id": "e6286bca",
   "metadata": {},
   "source": [
    "# Procedure\n",
    "\n",
    "We cannot just delete the old questions and then add new questions, since we are using `question_id` in the answer table to indicate which question does this answer belong to.\n",
    "\n",
    "So, we will do the following to insert new questions:\n",
    "- start by setting the `enable` column for all questions to `0`.\n",
    "- for each question, insert it into database (the default `enable` will be `1`)\n",
    "- if a question is in the list that is already in the database, set the `enable` of the row to `1`\n",
    "\n",
    "\n",
    "The SQL should be like:\n",
    "\n",
    "```sql\n",
    "BEGIN;\n",
    "UPDATE `question` SET `enable`=0;\n",
    "INSERT INTO `question` (`word`) VALUES (\"a\"), (\"here\") ON DUPLICATE KEY UPDATE `enable`=1;\n",
    "COMMIT;\n",
    "```"
   ]
  },
  {
   "cell_type": "markdown",
   "id": "b8aa4373",
   "metadata": {},
   "source": [
    "First, let's install the required modules if necessary"
   ]
  },
  {
   "cell_type": "code",
   "execution_count": null,
   "id": "0fbaf516",
   "metadata": {},
   "outputs": [],
   "source": [
    "!pip install redis pymysql pandas"
   ]
  },
  {
   "cell_type": "markdown",
   "id": "5e541554",
   "metadata": {},
   "source": [
    "# Initialise Database Connection\n",
    "\n",
    "Here, we create a class for the `libs.database` submodule to initialise the connections.\n",
    "\n",
    "The config is the same across all notebooks in this folder.\n",
    "- The host is `mysql`\n",
    "- The port that `mysql` runs on is `3306`\n",
    "- The port that the `redis` service runs on is `6739`\n",
    "- If you are testing locally with the database setup in singlish-words-backend, replace the username and password with your own MySQL username and password."
   ]
  },
  {
   "cell_type": "code",
   "execution_count": 2,
   "id": "3c08ba74",
   "metadata": {},
   "outputs": [],
   "source": [
    "import json\n",
    "cfg = json.load(open('config.json'))\n",
    "\n",
    "class Configs:\n",
    "    _db_host = cfg['_db_host']\n",
    "    _db_port = cfg['_db_port']\n",
    "    \n",
    "    _db_name = cfg['_db_name']\n",
    "    _db_charset = cfg['_db_charset']\n",
    "\n",
    "    _redis_host = cfg['_redis_host']\n",
    "    _redis_port = cfg['_redis_port']\n",
    "    \n",
    "    _db_user = cfg['_db_user']\n",
    "    _db_passwd = cfg['_db_passwd']"
   ]
  },
  {
   "cell_type": "markdown",
   "id": "952800b2",
   "metadata": {},
   "source": [
    "This block will initialise the database connection."
   ]
  },
  {
   "cell_type": "code",
   "execution_count": 4,
   "id": "ffd4ced2",
   "metadata": {},
   "outputs": [],
   "source": [
    "import libs.database as database\n",
    "\n",
    "database.initConnections(Configs)"
   ]
  },
  {
   "cell_type": "markdown",
   "id": "8c083be6",
   "metadata": {},
   "source": [
    "## Read questions\n",
    "\n",
    "It is required that the cues are in a `.csv` file separated by new lines! The block directly below can be changed to import the questions from any other location."
   ]
  },
  {
   "cell_type": "code",
   "execution_count": null,
   "id": "0e82fc94",
   "metadata": {},
   "outputs": [],
   "source": [
    "question_list_file_name = \"./export-data/cues.csv\""
   ]
  },
  {
   "cell_type": "code",
   "execution_count": 3,
   "id": "8a702e5e",
   "metadata": {},
   "outputs": [],
   "source": [
    "with open(question_list_file_name) as f:\n",
    "    questions = f.read().splitlines()"
   ]
  },
  {
   "cell_type": "markdown",
   "id": "4ac97697",
   "metadata": {},
   "source": [
    "## Refresh questions in database and cache"
   ]
  },
  {
   "cell_type": "code",
   "execution_count": 5,
   "id": "72c7c5b4",
   "metadata": {},
   "outputs": [],
   "source": [
    "database.refreshMySQLQuestions(questions)"
   ]
  },
  {
   "cell_type": "code",
   "execution_count": 6,
   "id": "8c9c9734",
   "metadata": {},
   "outputs": [],
   "source": [
    "database.refreshRedis()"
   ]
  },
  {
   "cell_type": "markdown",
   "id": "47c16f95",
   "metadata": {},
   "source": [
    "## Check if successfully inserted\n",
    "\n",
    "This method check the current questions in the sample set."
   ]
  },
  {
   "cell_type": "code",
   "execution_count": null,
   "id": "af0e7231",
   "metadata": {
    "scrolled": true
   },
   "outputs": [],
   "source": [
    "database.redisConnection.llen(\"questionList\")"
   ]
  }
 ],
 "metadata": {
  "kernelspec": {
   "display_name": "Python 3 (ipykernel)",
   "language": "python",
   "name": "python3"
  },
  "language_info": {
   "codemirror_mode": {
    "name": "ipython",
    "version": 3
   },
   "file_extension": ".py",
   "mimetype": "text/x-python",
   "name": "python",
   "nbconvert_exporter": "python",
   "pygments_lexer": "ipython3",
   "version": "3.9.5"
  }
 },
 "nbformat": 4,
 "nbformat_minor": 5
}
