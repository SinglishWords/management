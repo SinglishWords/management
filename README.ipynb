{
 "cells": [
  {
   "cell_type": "markdown",
   "id": "1d62d3a6",
   "metadata": {},
   "source": [
    "# Readme\n",
    "\n",
    "- @author Gong Zequn - [zequn.gong@u.nus.edu]\n",
    "\n",
    "## How to use this repo?\n",
    "\n",
    "There are two main functions\n",
    "\n",
    "* add/update questions;\n",
    "* export all data;\n",
    "\n",
    "For more information, check the `libs/database.py` .\n",
    "\n",
    "### For add/update questions\n",
    "\n",
    "#### Step 1.\n",
    "\n",
    "Upload question list to the `./input/list.txt` file, the format should be one word in one line,\n",
    "\n",
    "```\n",
    "4d\n",
    "5c's\n",
    "6c's\n",
    "a bit the\n",
    "a jay\n",
    "aa\n",
    "aapu\n",
    "aathaa\n",
    "abalone\n",
    "abang\n",
    "abang berg\n",
    "abang bod\n",
    "abang body\n",
    "abang sapau\n",
    "```\n",
    "\n",
    "Or you can put it in any file as you want, but make sure you change [the code in `Data%20Refresh.ipynb` file, under `Read-questions` section](./Data%20Refresh.ipynb#Read-questions) so that the program can read the right questions list in the notebook.\n",
    "\n",
    "\n",
    "#### Step 2.\n",
    "\n",
    "Follow the notebook, refresh the question list in the mysql database first, our script will set all the questions `enable` to be false, and then try to insert or enable all the words in the new word list.\n",
    "\n",
    "We won't just delete the old questions in the mysql, since some answers rely on existing question's ID.\n",
    "\n",
    "#### Step 3.\n",
    "\n",
    "Still, follow the notebook, our app will sample questions from the redis, so we need to refresh the cache.\n",
    "\n",
    "\n",
    "### For Data export.\n",
    "\n",
    "I provide two different ways to export all the data, the first method is to export them as a pandas dataframe, and them we can export data to csv files or json files. I also give 2 simple example for the data analysis, just using pandas join functions.\n",
    "\n",
    "\n",
    "## About config and settings\n",
    "\n",
    "Update the config part in each notebook.\n"
   ]
  },
  {
   "cell_type": "code",
   "execution_count": null,
   "id": "7cfb2a1f",
   "metadata": {},
   "outputs": [],
   "source": []
  }
 ],
 "metadata": {
  "kernelspec": {
   "display_name": "Python 3",
   "language": "python",
   "name": "python3"
  },
  "language_info": {
   "codemirror_mode": {
    "name": "ipython",
    "version": 3
   },
   "file_extension": ".py",
   "mimetype": "text/x-python",
   "name": "python",
   "nbconvert_exporter": "python",
   "pygments_lexer": "ipython3",
   "version": "3.9.5"
  }
 },
 "nbformat": 4,
 "nbformat_minor": 5
}
