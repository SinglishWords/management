{
 "cells": [
  {
   "cell_type": "markdown",
   "id": "a3e872f6",
   "metadata": {},
   "source": [
    "# UUID Verfication\n",
    "\n",
    "- @author Gong Zequn (zequn.gong@u.nus.edu)\n",
    "- @create 2021.09.18\n",
    "- @modify 2021.09.18"
   ]
  },
  {
   "cell_type": "code",
   "execution_count": 4,
   "id": "43d8d6e8",
   "metadata": {},
   "outputs": [
    {
     "name": "stdout",
     "output_type": "stream",
     "text": [
      "Collecting redis\n",
      "  Downloading redis-3.5.3-py2.py3-none-any.whl (72 kB)\n",
      "\u001b[K     |████████████████████████████████| 72 kB 1.1 MB/s  eta 0:00:01\n",
      "\u001b[?25hRequirement already satisfied: pymysql in /opt/conda/lib/python3.9/site-packages (1.0.2)\n",
      "Requirement already satisfied: pandas in /opt/conda/lib/python3.9/site-packages (1.3.3)\n",
      "Requirement already satisfied: numpy>=1.17.3 in /opt/conda/lib/python3.9/site-packages (from pandas) (1.21.2)\n",
      "Requirement already satisfied: pytz>=2017.3 in /opt/conda/lib/python3.9/site-packages (from pandas) (2021.1)\n",
      "Requirement already satisfied: python-dateutil>=2.7.3 in /opt/conda/lib/python3.9/site-packages (from pandas) (2.8.2)\n",
      "Requirement already satisfied: six>=1.5 in /opt/conda/lib/python3.9/site-packages (from python-dateutil>=2.7.3->pandas) (1.16.0)\n",
      "Installing collected packages: redis\n",
      "Successfully installed redis-3.5.3\n"
     ]
    }
   ],
   "source": [
    "!pip install redis pymysql pandas"
   ]
  },
  {
   "cell_type": "code",
   "execution_count": 10,
   "id": "baad4fa9",
   "metadata": {},
   "outputs": [],
   "source": [
    "import pandas as pd"
   ]
  },
  {
   "cell_type": "code",
   "execution_count": 5,
   "id": "91107fc6",
   "metadata": {},
   "outputs": [],
   "source": [
    "# Common configs\n",
    "\n",
    "class Configs:\n",
    "    _db_host = 'mysql'\n",
    "    _db_port = 3306\n",
    "    _db_user = 'csqsiew'\n",
    "    _db_passwd = 'u98x7v89asx'\n",
    "    _db_name = 'singlishwords'\n",
    "    _db_charset = 'utf8'\n",
    "\n",
    "    _redis_host = 'redis'\n",
    "    _redis_port = 6379"
   ]
  },
  {
   "cell_type": "code",
   "execution_count": 6,
   "id": "2f42c8b5",
   "metadata": {},
   "outputs": [],
   "source": [
    "import libs.database as database\n",
    "\n",
    "database.initConnections(Configs)"
   ]
  },
  {
   "cell_type": "markdown",
   "id": "8e8e4ed4",
   "metadata": {},
   "source": [
    "## Getting data"
   ]
  },
  {
   "cell_type": "code",
   "execution_count": 11,
   "id": "791d2d31",
   "metadata": {},
   "outputs": [],
   "source": [
    "respondents = database.getRespondents()\n",
    "respondents_df = pd.DataFrame.from_dict(respondents.values())"
   ]
  },
  {
   "cell_type": "markdown",
   "id": "09f30ed4",
   "metadata": {},
   "source": [
    "## Get uuid need to be checked\n",
    "\n",
    "Can choose either style, just simple reading function or just write the uuids in the code and then check them"
   ]
  },
  {
   "cell_type": "code",
   "execution_count": 13,
   "id": "35b1b8f3",
   "metadata": {},
   "outputs": [
    {
     "ename": "FileNotFoundError",
     "evalue": "[Errno 2] No such file or directory: './input/uuid.txt'",
     "output_type": "error",
     "traceback": [
      "\u001b[0;31m---------------------------------------------------------------------------\u001b[0m",
      "\u001b[0;31mFileNotFoundError\u001b[0m                         Traceback (most recent call last)",
      "\u001b[0;32m/tmp/ipykernel_46/3446584686.py\u001b[0m in \u001b[0;36m<module>\u001b[0;34m\u001b[0m\n\u001b[0;32m----> 1\u001b[0;31m \u001b[0;32mwith\u001b[0m \u001b[0mopen\u001b[0m\u001b[0;34m(\u001b[0m\u001b[0;34m'./input/uuid.txt'\u001b[0m\u001b[0;34m)\u001b[0m \u001b[0;32mas\u001b[0m \u001b[0mf\u001b[0m\u001b[0;34m:\u001b[0m\u001b[0;34m\u001b[0m\u001b[0;34m\u001b[0m\u001b[0m\n\u001b[0m\u001b[1;32m      2\u001b[0m     \u001b[0mwaiting_to_be_checked_uuids\u001b[0m \u001b[0;34m=\u001b[0m \u001b[0mf\u001b[0m\u001b[0;34m.\u001b[0m\u001b[0mreadlines\u001b[0m\u001b[0;34m(\u001b[0m\u001b[0;34m)\u001b[0m\u001b[0;34m\u001b[0m\u001b[0;34m\u001b[0m\u001b[0m\n",
      "\u001b[0;31mFileNotFoundError\u001b[0m: [Errno 2] No such file or directory: './input/uuid.txt'"
     ]
    }
   ],
   "source": [
    "with open('./input/uuid.txt') as f:\n",
    "    waiting_to_be_checked_uuids = f.readlines()"
   ]
  },
  {
   "cell_type": "code",
   "execution_count": 14,
   "id": "ecc4eb0f",
   "metadata": {},
   "outputs": [],
   "source": [
    "waiting_to_be_checked_uuids = [\n",
    "    \n",
    "]"
   ]
  },
  {
   "cell_type": "markdown",
   "id": "b3a23d82",
   "metadata": {},
   "source": [
    "## Check"
   ]
  },
  {
   "cell_type": "code",
   "execution_count": 16,
   "id": "df6498c8",
   "metadata": {},
   "outputs": [],
   "source": [
    "for uuid in waiting_to_be_checked_uuids:\n",
    "    existing = (uuid in respondents_df['uuid'].values)\n",
    "    respondent_id = respondents_df[respondents_df['uuid']==uuid]['id']\n",
    "    if existing:\n",
    "        print(\"PASS: {} {respondent_id}\".format(uuid=uuid, respondent_id=respondent_id))\n",
    "    else:\n",
    "        print(\"FAIL: {}\".format(uuid=uuid))"
   ]
  },
  {
   "cell_type": "code",
   "execution_count": null,
   "id": "75179060",
   "metadata": {},
   "outputs": [],
   "source": []
  }
 ],
 "metadata": {
  "kernelspec": {
   "display_name": "Python 3 (ipykernel)",
   "language": "python",
   "name": "python3"
  },
  "language_info": {
   "codemirror_mode": {
    "name": "ipython",
    "version": 3
   },
   "file_extension": ".py",
   "mimetype": "text/x-python",
   "name": "python",
   "nbconvert_exporter": "python",
   "pygments_lexer": "ipython3",
   "version": "3.9.6"
  }
 },
 "nbformat": 4,
 "nbformat_minor": 5
}
