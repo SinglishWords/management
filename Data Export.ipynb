{
 "cells": [
  {
   "cell_type": "markdown",
   "id": "07b208ef",
   "metadata": {},
   "source": [
    "# Data export script\n",
    "\n",
    "- @author Gong Zequn (zequn.gong@u.nus.edu)\n",
    "- @create 2021.06.28\n",
    "- @modify 2021.07.22"
   ]
  },
  {
   "cell_type": "code",
   "execution_count": 1,
   "id": "ac6d8181",
   "metadata": {
    "scrolled": true
   },
   "outputs": [
    {
     "name": "stdout",
     "output_type": "stream",
     "text": [
      "Requirement already satisfied: pymysql in /opt/conda/lib/python3.9/site-packages (1.0.2)\n",
      "Requirement already satisfied: pandas in /opt/conda/lib/python3.9/site-packages (1.2.5)\n",
      "Requirement already satisfied: pytz>=2017.3 in /opt/conda/lib/python3.9/site-packages (from pandas) (2021.1)\n",
      "Requirement already satisfied: numpy>=1.16.5 in /opt/conda/lib/python3.9/site-packages (from pandas) (1.21.0)\n",
      "Requirement already satisfied: python-dateutil>=2.7.3 in /opt/conda/lib/python3.9/site-packages (from pandas) (2.8.1)\n",
      "Requirement already satisfied: six>=1.5 in /opt/conda/lib/python3.9/site-packages (from python-dateutil>=2.7.3->pandas) (1.16.0)\n"
     ]
    }
   ],
   "source": [
    "!pip install pymysql pandas"
   ]
  },
  {
   "cell_type": "markdown",
   "id": "761ec8d4",
   "metadata": {},
   "source": [
    "## Query from mysql database"
   ]
  },
  {
   "cell_type": "code",
   "execution_count": 14,
   "id": "d52e948d",
   "metadata": {},
   "outputs": [],
   "source": [
    "# Common configs\n",
    "\n",
    "class Configs:\n",
    "    _db_host = 'mysql'\n",
    "    _db_port = 3306\n",
    "    _db_user = 'csqsiew'\n",
    "    _db_passwd = 'u98x7v89asx'\n",
    "    _db_name = 'singlishwords'\n",
    "    _db_charset = 'utf8'\n",
    "\n",
    "    _redis_host = 'redis'\n",
    "    _redis_port = 6379"
   ]
  },
  {
   "cell_type": "code",
   "execution_count": 15,
   "id": "f138b71a",
   "metadata": {},
   "outputs": [],
   "source": [
    "import libs.database as database\n",
    "\n",
    "database.initConnections(Configs)"
   ]
  },
  {
   "cell_type": "code",
   "execution_count": 16,
   "id": "f4fb6363",
   "metadata": {},
   "outputs": [],
   "source": [
    "questions = database.getQuestions()\n",
    "answers = database.getAnswers()\n",
    "respondents = database.getRespondents()"
   ]
  },
  {
   "cell_type": "markdown",
   "id": "5afdd424",
   "metadata": {},
   "source": [
    "## Use pandas to convert to dataframes"
   ]
  },
  {
   "cell_type": "code",
   "execution_count": 17,
   "id": "07990d84",
   "metadata": {},
   "outputs": [],
   "source": [
    "import pandas as pd"
   ]
  },
  {
   "cell_type": "code",
   "execution_count": 18,
   "id": "ae5a35f8",
   "metadata": {},
   "outputs": [],
   "source": [
    "questions_df = pd.DataFrame.from_dict(questions.values())\n",
    "answers_df = pd.DataFrame.from_dict(answers.values())\n",
    "respondents_df = pd.DataFrame.from_dict(respondents.values())"
   ]
  },
  {
   "cell_type": "code",
   "execution_count": 19,
   "id": "d0f7e984",
   "metadata": {},
   "outputs": [],
   "source": [
    "questions_df.to_csv('./export-data/questions.csv', index=False)\n",
    "answers_df.to_csv('./export-data/answers.csv', index=False)\n",
    "respondents_df.to_csv('./export-data/respondents.csv', index=False)"
   ]
  },
  {
   "cell_type": "markdown",
   "id": "dca31017",
   "metadata": {},
   "source": [
    "## Use pandas to join them\n",
    "\n",
    "> just an example, will use json to nest informations"
   ]
  },
  {
   "cell_type": "code",
   "execution_count": 20,
   "id": "bc3d48a3",
   "metadata": {
    "scrolled": true
   },
   "outputs": [],
   "source": [
    "qa = pd.merge(answers_df, questions_df, \n",
    "              left_on='question_id', \n",
    "              right_on='id', \n",
    "              suffixes=['_answer', '_question'])"
   ]
  },
  {
   "cell_type": "code",
   "execution_count": 21,
   "id": "201dea36",
   "metadata": {},
   "outputs": [],
   "source": [
    "qar = pd.merge(qa, respondents_df, \n",
    "         left_on='respondent_id', \n",
    "         right_on='id', \n",
    "         suffixes=['_qa', '_respondent'])"
   ]
  },
  {
   "cell_type": "code",
   "execution_count": 22,
   "id": "a247f270",
   "metadata": {},
   "outputs": [],
   "source": [
    "qar = qar.drop(columns=['id_answer', 'id_question', 'id'])"
   ]
  },
  {
   "cell_type": "code",
   "execution_count": 23,
   "id": "dab53ef9",
   "metadata": {
    "scrolled": true
   },
   "outputs": [
    {
     "data": {
      "text/html": [
       "<div>\n",
       "<style scoped>\n",
       "    .dataframe tbody tr th:only-of-type {\n",
       "        vertical-align: middle;\n",
       "    }\n",
       "\n",
       "    .dataframe tbody tr th {\n",
       "        vertical-align: top;\n",
       "    }\n",
       "\n",
       "    .dataframe thead th {\n",
       "        text-align: right;\n",
       "    }\n",
       "</style>\n",
       "<table border=\"1\" class=\"dataframe\">\n",
       "  <thead>\n",
       "    <tr style=\"text-align: right;\">\n",
       "      <th></th>\n",
       "      <th>association1</th>\n",
       "      <th>association2</th>\n",
       "      <th>association3</th>\n",
       "      <th>time_spend</th>\n",
       "      <th>question_id</th>\n",
       "      <th>respondent_id</th>\n",
       "      <th>word</th>\n",
       "      <th>age</th>\n",
       "      <th>gender</th>\n",
       "      <th>education</th>\n",
       "      <th>country_of_birth</th>\n",
       "      <th>country_of_residence</th>\n",
       "      <th>ethnicity</th>\n",
       "      <th>is_native</th>\n",
       "      <th>language_spoken</th>\n",
       "      <th>start_time</th>\n",
       "      <th>end_time</th>\n",
       "      <th>email</th>\n",
       "    </tr>\n",
       "  </thead>\n",
       "  <tbody>\n",
       "    <tr>\n",
       "      <th>0</th>\n",
       "      <td>dwqd</td>\n",
       "      <td></td>\n",
       "      <td></td>\n",
       "      <td>3</td>\n",
       "      <td>1</td>\n",
       "      <td>1</td>\n",
       "      <td>4d</td>\n",
       "      <td>19</td>\n",
       "      <td>Female</td>\n",
       "      <td>PSLE</td>\n",
       "      <td>Singapore</td>\n",
       "      <td>Singapore</td>\n",
       "      <td>Malay</td>\n",
       "      <td>No</td>\n",
       "      <td>[\"Belarusian\"]</td>\n",
       "      <td>2021-07-22 21:18:49</td>\n",
       "      <td>2021-07-22 21:19:15</td>\n",
       "      <td>test2@gmail.com</td>\n",
       "    </tr>\n",
       "    <tr>\n",
       "      <th>1</th>\n",
       "      <td>dwq</td>\n",
       "      <td></td>\n",
       "      <td></td>\n",
       "      <td>1</td>\n",
       "      <td>3</td>\n",
       "      <td>1</td>\n",
       "      <td>zor kang</td>\n",
       "      <td>19</td>\n",
       "      <td>Female</td>\n",
       "      <td>PSLE</td>\n",
       "      <td>Singapore</td>\n",
       "      <td>Singapore</td>\n",
       "      <td>Malay</td>\n",
       "      <td>No</td>\n",
       "      <td>[\"Belarusian\"]</td>\n",
       "      <td>2021-07-22 21:18:49</td>\n",
       "      <td>2021-07-22 21:19:15</td>\n",
       "      <td>test2@gmail.com</td>\n",
       "    </tr>\n",
       "    <tr>\n",
       "      <th>2</th>\n",
       "      <td>drehwax</td>\n",
       "      <td></td>\n",
       "      <td></td>\n",
       "      <td>1</td>\n",
       "      <td>4</td>\n",
       "      <td>1</td>\n",
       "      <td>zor tang</td>\n",
       "      <td>19</td>\n",
       "      <td>Female</td>\n",
       "      <td>PSLE</td>\n",
       "      <td>Singapore</td>\n",
       "      <td>Singapore</td>\n",
       "      <td>Malay</td>\n",
       "      <td>No</td>\n",
       "      <td>[\"Belarusian\"]</td>\n",
       "      <td>2021-07-22 21:18:49</td>\n",
       "      <td>2021-07-22 21:19:15</td>\n",
       "      <td>test2@gmail.com</td>\n",
       "    </tr>\n",
       "    <tr>\n",
       "      <th>3</th>\n",
       "      <td>yejt567u</td>\n",
       "      <td></td>\n",
       "      <td></td>\n",
       "      <td>1</td>\n",
       "      <td>5</td>\n",
       "      <td>1</td>\n",
       "      <td>zor teng</td>\n",
       "      <td>19</td>\n",
       "      <td>Female</td>\n",
       "      <td>PSLE</td>\n",
       "      <td>Singapore</td>\n",
       "      <td>Singapore</td>\n",
       "      <td>Malay</td>\n",
       "      <td>No</td>\n",
       "      <td>[\"Belarusian\"]</td>\n",
       "      <td>2021-07-22 21:18:49</td>\n",
       "      <td>2021-07-22 21:19:15</td>\n",
       "      <td>test2@gmail.com</td>\n",
       "    </tr>\n",
       "    <tr>\n",
       "      <th>4</th>\n",
       "      <td>swrhvbcfdt2345</td>\n",
       "      <td></td>\n",
       "      <td></td>\n",
       "      <td>1</td>\n",
       "      <td>6</td>\n",
       "      <td>1</td>\n",
       "      <td>zzz</td>\n",
       "      <td>19</td>\n",
       "      <td>Female</td>\n",
       "      <td>PSLE</td>\n",
       "      <td>Singapore</td>\n",
       "      <td>Singapore</td>\n",
       "      <td>Malay</td>\n",
       "      <td>No</td>\n",
       "      <td>[\"Belarusian\"]</td>\n",
       "      <td>2021-07-22 21:18:49</td>\n",
       "      <td>2021-07-22 21:19:15</td>\n",
       "      <td>test2@gmail.com</td>\n",
       "    </tr>\n",
       "  </tbody>\n",
       "</table>\n",
       "</div>"
      ],
      "text/plain": [
       "     association1 association2 association3  time_spend  question_id  \\\n",
       "0            dwqd                                     3            1   \n",
       "1             dwq                                     1            3   \n",
       "2         drehwax                                     1            4   \n",
       "3        yejt567u                                     1            5   \n",
       "4  swrhvbcfdt2345                                     1            6   \n",
       "\n",
       "   respondent_id      word  age  gender education country_of_birth  \\\n",
       "0              1        4d   19  Female      PSLE        Singapore   \n",
       "1              1  zor kang   19  Female      PSLE        Singapore   \n",
       "2              1  zor tang   19  Female      PSLE        Singapore   \n",
       "3              1  zor teng   19  Female      PSLE        Singapore   \n",
       "4              1       zzz   19  Female      PSLE        Singapore   \n",
       "\n",
       "  country_of_residence ethnicity is_native language_spoken  \\\n",
       "0            Singapore     Malay        No  [\"Belarusian\"]   \n",
       "1            Singapore     Malay        No  [\"Belarusian\"]   \n",
       "2            Singapore     Malay        No  [\"Belarusian\"]   \n",
       "3            Singapore     Malay        No  [\"Belarusian\"]   \n",
       "4            Singapore     Malay        No  [\"Belarusian\"]   \n",
       "\n",
       "            start_time             end_time            email  \n",
       "0  2021-07-22 21:18:49  2021-07-22 21:19:15  test2@gmail.com  \n",
       "1  2021-07-22 21:18:49  2021-07-22 21:19:15  test2@gmail.com  \n",
       "2  2021-07-22 21:18:49  2021-07-22 21:19:15  test2@gmail.com  \n",
       "3  2021-07-22 21:18:49  2021-07-22 21:19:15  test2@gmail.com  \n",
       "4  2021-07-22 21:18:49  2021-07-22 21:19:15  test2@gmail.com  "
      ]
     },
     "execution_count": 23,
     "metadata": {},
     "output_type": "execute_result"
    }
   ],
   "source": [
    "qar.head(5)"
   ]
  },
  {
   "cell_type": "markdown",
   "id": "7d51ba65",
   "metadata": {},
   "source": [
    "# As a nested json format"
   ]
  },
  {
   "cell_type": "code",
   "execution_count": 24,
   "id": "9a25b7b3",
   "metadata": {},
   "outputs": [],
   "source": [
    "import json"
   ]
  },
  {
   "cell_type": "code",
   "execution_count": 25,
   "id": "d53b355c",
   "metadata": {},
   "outputs": [],
   "source": [
    "results = {k: v for k, v in respondents.items()}\n",
    "for k, v in results.items():\n",
    "    results[k]['answers'] = []"
   ]
  },
  {
   "cell_type": "code",
   "execution_count": 26,
   "id": "9dca87fe",
   "metadata": {},
   "outputs": [],
   "source": [
    "for k, v in answers.items():\n",
    "    results[v['respondent_id']]['answers'].append({\n",
    "        'question': questions[v['question_id']]['word'],\n",
    "        'associations': [v['association1'], v['association2'], v['association3']],\n",
    "        'time_spend': v['time_spend'],\n",
    "    })"
   ]
  },
  {
   "cell_type": "code",
   "execution_count": 28,
   "id": "b3fbe0a5",
   "metadata": {},
   "outputs": [],
   "source": [
    "with open('./export-data/data.json', 'w') as f:\n",
    "    json.dump(results, f)"
   ]
  },
  {
   "cell_type": "code",
   "execution_count": null,
   "id": "637b0223",
   "metadata": {},
   "outputs": [],
   "source": []
  }
 ],
 "metadata": {
  "kernelspec": {
   "display_name": "Python 3",
   "language": "python",
   "name": "python3"
  },
  "language_info": {
   "codemirror_mode": {
    "name": "ipython",
    "version": 3
   },
   "file_extension": ".py",
   "mimetype": "text/x-python",
   "name": "python",
   "nbconvert_exporter": "python",
   "pygments_lexer": "ipython3",
   "version": "3.9.5"
  }
 },
 "nbformat": 4,
 "nbformat_minor": 5
}
