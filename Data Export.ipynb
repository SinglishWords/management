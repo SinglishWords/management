{
 "cells": [
  {
   "cell_type": "markdown",
   "id": "07b208ef",
   "metadata": {},
   "source": [
    "# Data export script\n",
    "\n",
    "- @author Gong Zequn (zequn.gong@u.nus.edu)\n",
    "- @create 2021.06.28\n",
    "- @modify 2021.07.22\n",
    "\n",
    "- @author Shashank Acharya (acharya.s@u.nus.edu)\n",
    "- @modify 2022.03.20"
   ]
  },
  {
   "cell_type": "code",
   "execution_count": null,
   "id": "ac6d8181",
   "metadata": {
    "scrolled": true
   },
   "outputs": [],
   "source": [
    "!pip install pymysql pandas"
   ]
  },
  {
   "cell_type": "code",
   "execution_count": 4,
   "id": "8119ea93",
   "metadata": {},
   "outputs": [
    {
     "data": {
      "text/plain": [
       "{'_db_host': 'mysql',\n",
       " '_db_port': 3306,\n",
       " '_db_name': 'singlishwords',\n",
       " '_db_charset': 'utf8',\n",
       " '_redis_host': 'redis',\n",
       " '_redis_port': 6379,\n",
       " '_db_user': 'csqsiew',\n",
       " '_db_passwd': 'u98x7v89asx'}"
      ]
     },
     "execution_count": 4,
     "metadata": {},
     "output_type": "execute_result"
    }
   ],
   "source": []
  },
  {
   "cell_type": "markdown",
   "id": "761ec8d4",
   "metadata": {},
   "source": [
    "# Initialise Database Connection\n",
    "\n",
    "Here, we create a class for the `libs.database` submodule to initialise the connections.\n",
    "\n",
    "The config is the same across all notebooks in this folder.\n",
    "- The host is `mysql`\n",
    "- The port that `mysql` runs on is `3306`\n",
    "- The port that the `redis` service runs on is `6739`\n",
    "- If you are testing locally with the database setup in singlish-words-backend, replace the username and password with your own MySQL username and password."
   ]
  },
  {
   "cell_type": "code",
   "execution_count": null,
   "id": "d52e948d",
   "metadata": {},
   "outputs": [],
   "source": [
    "import json\n",
    "cfg = json.load(open('config.json'))\n",
    "\n",
    "class Configs:\n",
    "    _db_host = cfg['_db_host']\n",
    "    _db_port = cfg['_db_port']\n",
    "    \n",
    "    _db_name = cfg['_db_name']\n",
    "    _db_charset = cfg['_db_charset']\n",
    "\n",
    "    _redis_host = cfg['_redis_host']\n",
    "    _redis_port = cfg['_redis_port']\n",
    "    \n",
    "    _db_user = cfg['_db_user']\n",
    "    _db_passwd = cfg['_db_passwd']"
   ]
  },
  {
   "cell_type": "markdown",
   "id": "1e764713",
   "metadata": {},
   "source": [
    "This block will initialise the database connection."
   ]
  },
  {
   "cell_type": "code",
   "execution_count": null,
   "id": "f138b71a",
   "metadata": {},
   "outputs": [],
   "source": [
    "import libs.database as database\n",
    "\n",
    "database.initConnections(Configs)"
   ]
  },
  {
   "cell_type": "markdown",
   "id": "95a1f309",
   "metadata": {},
   "source": [
    "# Create Table Dictionaries\n",
    "\n",
    "The functions used to retrieve data from the following tables are under `libs/database.py`"
   ]
  },
  {
   "cell_type": "code",
   "execution_count": null,
   "id": "f4fb6363",
   "metadata": {},
   "outputs": [],
   "source": [
    "questions = database.getQuestions()\n",
    "answers = database.getAnswers()\n",
    "respondents = database.getRespondents()"
   ]
  },
  {
   "cell_type": "markdown",
   "id": "5afdd424",
   "metadata": {},
   "source": [
    "# Converting Dataframes to Tables using Pandas\n",
    "\n",
    "First, we will import the `pandas` module"
   ]
  },
  {
   "cell_type": "code",
   "execution_count": null,
   "id": "07990d84",
   "metadata": {},
   "outputs": [],
   "source": [
    "import pandas as pd"
   ]
  },
  {
   "cell_type": "markdown",
   "id": "4d70449d",
   "metadata": {},
   "source": [
    "Next, we will convert each of the table dictionaries to a Pandas dataframe."
   ]
  },
  {
   "cell_type": "code",
   "execution_count": null,
   "id": "ae5a35f8",
   "metadata": {},
   "outputs": [],
   "source": [
    "questions_df = pd.DataFrame.from_dict(questions.values())\n",
    "answers_df = pd.DataFrame.from_dict(answers.values())\n",
    "respondents_df = pd.DataFrame.from_dict(respondents.values())"
   ]
  },
  {
   "cell_type": "markdown",
   "id": "86cbcbb9",
   "metadata": {},
   "source": [
    "As a checkpoint, in case we are unable to merge the dataframes later, let's first export the current dataframes to CSV as is."
   ]
  },
  {
   "cell_type": "code",
   "execution_count": null,
   "id": "d0f7e984",
   "metadata": {},
   "outputs": [],
   "source": [
    "questions_df.to_csv('./export-data/questions.csv', index=False)\n",
    "answers_df.to_csv('./export-data/answers.csv', index=False)\n",
    "respondents_df.to_csv('./export-data/respondents.csv', index=False)"
   ]
  },
  {
   "cell_type": "markdown",
   "id": "23025b38",
   "metadata": {},
   "source": [
    "# Merging dataframes"
   ]
  },
  {
   "cell_type": "markdown",
   "id": "17e5b3ed",
   "metadata": {},
   "source": [
    "## a. Question-Answer Merge"
   ]
  },
  {
   "cell_type": "code",
   "execution_count": null,
   "id": "bc3d48a3",
   "metadata": {
    "scrolled": true
   },
   "outputs": [],
   "source": [
    "qa = pd.merge(\n",
    "    answers_df, \n",
    "    questions_df, \n",
    "    left_on='question_id', \n",
    "    right_on='id', \n",
    "    suffixes=['_answer', '_question']\n",
    ")"
   ]
  },
  {
   "cell_type": "markdown",
   "id": "732778d2",
   "metadata": {},
   "source": [
    "## b. Question-Answer-Response Merge"
   ]
  },
  {
   "cell_type": "code",
   "execution_count": null,
   "id": "201dea36",
   "metadata": {},
   "outputs": [],
   "source": [
    "qar = pd.merge(\n",
    "    qa,\n",
    "    respondents_df, \n",
    "    left_on='respondent_id', \n",
    "    right_on='id', \n",
    "    suffixes=['_qa', '_respondent']\n",
    ")"
   ]
  },
  {
   "cell_type": "markdown",
   "id": "21f93624",
   "metadata": {},
   "source": [
    "Cleaning the overlapping (extra) columns in the `qar` dataframe."
   ]
  },
  {
   "cell_type": "code",
   "execution_count": null,
   "id": "a247f270",
   "metadata": {},
   "outputs": [],
   "source": [
    "qar = qar.drop(columns=['id_answer', 'id_question', 'id'])"
   ]
  },
  {
   "cell_type": "markdown",
   "id": "170638d2",
   "metadata": {},
   "source": [
    "# Export the merged CSV file"
   ]
  },
  {
   "cell_type": "code",
   "execution_count": null,
   "id": "1932743f",
   "metadata": {},
   "outputs": [],
   "source": [
    "qar.to_csv('./export-data/data.csv', index=False)"
   ]
  },
  {
   "cell_type": "markdown",
   "id": "7d51ba65",
   "metadata": {},
   "source": [
    "# Create the nested JSON format\n",
    "\n",
    "First, we will import the `json` module"
   ]
  },
  {
   "cell_type": "code",
   "execution_count": null,
   "id": "9a25b7b3",
   "metadata": {},
   "outputs": [],
   "source": [
    "import json"
   ]
  },
  {
   "cell_type": "markdown",
   "id": "8993e972",
   "metadata": {},
   "source": [
    "Then, for each respondent, we will set the results to an empty array that will contain the answers."
   ]
  },
  {
   "cell_type": "code",
   "execution_count": null,
   "id": "d53b355c",
   "metadata": {},
   "outputs": [],
   "source": [
    "results = {k: v for k, v in respondents.items()}\n",
    "for k, v in results.items():\n",
    "    results[k]['answers'] = []"
   ]
  },
  {
   "cell_type": "markdown",
   "id": "4cffc6b0",
   "metadata": {},
   "source": [
    "For each of the respondents' answers, we will add the question details, associations entered, and time spent."
   ]
  },
  {
   "cell_type": "code",
   "execution_count": null,
   "id": "9dca87fe",
   "metadata": {},
   "outputs": [],
   "source": [
    "for k, v in answers.items():\n",
    "    results[v['respondent_id']]['answers'].append({\n",
    "        'question': questions[v['question_id']]['word'],\n",
    "        'associations': [v['association1'], v['association2'], v['association3']],\n",
    "        'is_recognised_word': v['is_recognised_word'],\n",
    "        'time_spend': v['time_spend'],\n",
    "    })"
   ]
  },
  {
   "cell_type": "markdown",
   "id": "5f3c2eb4",
   "metadata": {},
   "source": [
    "We are now ready to export this to a JSON file."
   ]
  },
  {
   "cell_type": "code",
   "execution_count": null,
   "id": "b3fbe0a5",
   "metadata": {},
   "outputs": [],
   "source": [
    "with open('./export-data/data.json', 'w') as f:\n",
    "    json.dump(results, f)"
   ]
  }
 ],
 "metadata": {
  "kernelspec": {
   "display_name": "Python 3 (ipykernel)",
   "language": "python",
   "name": "python3"
  },
  "language_info": {
   "codemirror_mode": {
    "name": "ipython",
    "version": 3
   },
   "file_extension": ".py",
   "mimetype": "text/x-python",
   "name": "python",
   "nbconvert_exporter": "python",
   "pygments_lexer": "ipython3",
   "version": "3.9.10"
  }
 },
 "nbformat": 4,
 "nbformat_minor": 5
}
